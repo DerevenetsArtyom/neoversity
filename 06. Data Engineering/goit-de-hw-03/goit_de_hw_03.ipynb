{
  "nbformat": 4,
  "nbformat_minor": 0,
  "metadata": {
    "colab": {
      "provenance": []
    },
    "kernelspec": {
      "name": "python3",
      "display_name": "Python 3"
    },
    "language_info": {
      "name": "python"
    }
  },
  "cells": [
    {
      "cell_type": "code",
      "source": [
        "from pyspark.sql import SparkSession\n",
        "from pyspark.sql.functions import col  # Импортируем col()\n",
        "\n",
        "spark = SparkSession.builder.appName('test').getOrCreate()"
      ],
      "metadata": {
        "id": "w0CaFy9tKUCA"
      },
      "execution_count": 19,
      "outputs": []
    },
    {
      "cell_type": "markdown",
      "source": [
        "1. Завантажте та прочитайте кожен CSV-файл як окремий DataFrame."
      ],
      "metadata": {
        "id": "0s1m2o20rgO6"
      }
    },
    {
      "cell_type": "code",
      "source": [
        "users_df = spark.read.format(\"csv\").option(\"header\", \"true\").load(\"users.csv\")\n",
        "purchases_df = spark.read.format(\"csv\").option(\"header\", \"true\").load(\"purchases.csv\")\n",
        "products_df = spark.read.format(\"csv\").option(\"header\", \"true\").load(\"products.csv\")"
      ],
      "metadata": {
        "id": "DETJfObaefoi"
      },
      "execution_count": 40,
      "outputs": []
    },
    {
      "cell_type": "code",
      "source": [
        "users_df.show(5)"
      ],
      "metadata": {
        "colab": {
          "base_uri": "https://localhost:8080/"
        },
        "id": "bVH73RvyM9W5",
        "outputId": "0930e6d5-7af0-4df3-d09f-a7e01a038450"
      },
      "execution_count": 21,
      "outputs": [
        {
          "output_type": "stream",
          "name": "stdout",
          "text": [
            "+-------+------+---+-----------------+\n",
            "|user_id|  name|age|            email|\n",
            "+-------+------+---+-----------------+\n",
            "|      1|User_1| 45|user1@example.com|\n",
            "|      2|User_2| 48|user2@example.com|\n",
            "|      3|User_3| 36|user3@example.com|\n",
            "|      4|User_4| 46|user4@example.com|\n",
            "|      5|User_5| 29|user5@example.com|\n",
            "+-------+------+---+-----------------+\n",
            "only showing top 5 rows\n",
            "\n"
          ]
        }
      ]
    },
    {
      "cell_type": "code",
      "source": [
        "purchases_df.show(5)"
      ],
      "metadata": {
        "colab": {
          "base_uri": "https://localhost:8080/"
        },
        "id": "TwULBBkjgIo4",
        "outputId": "4d07fdfa-68ed-4dfe-9976-c2cb3e8fa185"
      },
      "execution_count": 22,
      "outputs": [
        {
          "output_type": "stream",
          "name": "stdout",
          "text": [
            "+-----------+-------+----------+----------+--------+\n",
            "|purchase_id|user_id|product_id|      date|quantity|\n",
            "+-----------+-------+----------+----------+--------+\n",
            "|          1|     52|         9|2022-01-01|       1|\n",
            "|          2|     93|        37|2022-01-02|       8|\n",
            "|          3|     15|        33|2022-01-03|       1|\n",
            "|          4|     72|        42|2022-01-04|       9|\n",
            "|          5|     61|        44|2022-01-05|       6|\n",
            "+-----------+-------+----------+----------+--------+\n",
            "only showing top 5 rows\n",
            "\n"
          ]
        }
      ]
    },
    {
      "cell_type": "code",
      "source": [
        "products_df.show(5)"
      ],
      "metadata": {
        "colab": {
          "base_uri": "https://localhost:8080/"
        },
        "id": "QGDrrO-ogInU",
        "outputId": "9a6f0939-25bb-4c01-f887-fa5724e396a4"
      },
      "execution_count": 23,
      "outputs": [
        {
          "output_type": "stream",
          "name": "stdout",
          "text": [
            "+----------+------------+-----------+-----+\n",
            "|product_id|product_name|   category|price|\n",
            "+----------+------------+-----------+-----+\n",
            "|         1|   Product_1|     Beauty|  8.3|\n",
            "|         2|   Product_2|       Home|  8.3|\n",
            "|         3|   Product_3|Electronics|  9.2|\n",
            "|         4|   Product_4|Electronics|  2.6|\n",
            "|         5|   Product_5|Electronics|  9.4|\n",
            "+----------+------------+-----------+-----+\n",
            "only showing top 5 rows\n",
            "\n"
          ]
        }
      ]
    },
    {
      "cell_type": "markdown",
      "source": [
        "2. Очистіть дані, видаляючи будь-які рядки з пропущеними значеннями."
      ],
      "metadata": {
        "id": "NaAjKlGYrjpo"
      }
    },
    {
      "cell_type": "code",
      "source": [
        "print(\"В users_df рядків з пропусками:\", users_df.count() - users_df.dropna().count())\n",
        "print(\"В purchases_df рядків з пропусками:\", purchases_df.count() - purchases_df.dropna().count())\n",
        "print(\"В products_df рядків з пропусками:\", products_df.count() - products_df.dropna().count())"
      ],
      "metadata": {
        "colab": {
          "base_uri": "https://localhost:8080/"
        },
        "id": "z1oL29qopMlh",
        "outputId": "90133385-092f-4db1-d9c1-aa9c1ffe62e5"
      },
      "execution_count": 46,
      "outputs": [
        {
          "output_type": "stream",
          "name": "stdout",
          "text": [
            "В users_df рядків з пропусками: 5\n",
            "В purchases_df рядків з пропусками: 5\n",
            "В products_df рядків з пропусками: 3\n"
          ]
        }
      ]
    },
    {
      "cell_type": "code",
      "source": [
        "users_df = users_df.dropna()\n",
        "purchases_df = purchases_df.dropna()\n",
        "products_df = products_df.dropna()\n",
        "users_df.show(5)\n",
        "purchases_df.show(5)\n",
        "products_df.show(5)"
      ],
      "metadata": {
        "colab": {
          "base_uri": "https://localhost:8080/"
        },
        "id": "ZHphl2xMhlo-",
        "outputId": "48c34c93-ba88-4468-9995-8f42a08a9037"
      },
      "execution_count": 47,
      "outputs": [
        {
          "output_type": "stream",
          "name": "stdout",
          "text": [
            "+-------+------+---+-----------------+\n",
            "|user_id|  name|age|            email|\n",
            "+-------+------+---+-----------------+\n",
            "|      1|User_1| 45|user1@example.com|\n",
            "|      2|User_2| 48|user2@example.com|\n",
            "|      3|User_3| 36|user3@example.com|\n",
            "|      4|User_4| 46|user4@example.com|\n",
            "|      5|User_5| 29|user5@example.com|\n",
            "+-------+------+---+-----------------+\n",
            "only showing top 5 rows\n",
            "\n",
            "+-----------+-------+----------+----------+--------+\n",
            "|purchase_id|user_id|product_id|      date|quantity|\n",
            "+-----------+-------+----------+----------+--------+\n",
            "|          1|     52|         9|2022-01-01|       1|\n",
            "|          2|     93|        37|2022-01-02|       8|\n",
            "|          3|     15|        33|2022-01-03|       1|\n",
            "|          4|     72|        42|2022-01-04|       9|\n",
            "|          5|     61|        44|2022-01-05|       6|\n",
            "+-----------+-------+----------+----------+--------+\n",
            "only showing top 5 rows\n",
            "\n",
            "+----------+------------+-----------+-----+\n",
            "|product_id|product_name|   category|price|\n",
            "+----------+------------+-----------+-----+\n",
            "|         1|   Product_1|     Beauty|  8.3|\n",
            "|         2|   Product_2|       Home|  8.3|\n",
            "|         3|   Product_3|Electronics|  9.2|\n",
            "|         4|   Product_4|Electronics|  2.6|\n",
            "|         5|   Product_5|Electronics|  9.4|\n",
            "+----------+------------+-----------+-----+\n",
            "only showing top 5 rows\n",
            "\n"
          ]
        }
      ]
    },
    {
      "cell_type": "code",
      "source": [
        "print(\"В users_df рядків з пропусками:\", users_df.count() - users_df.dropna().count())\n",
        "print(\"В purchases_df рядків з пропусками:\", purchases_df.count() - purchases_df.dropna().count())\n",
        "print(\"В products_df рядків з пропусками:\", products_df.count() - products_df.dropna().count())"
      ],
      "metadata": {
        "colab": {
          "base_uri": "https://localhost:8080/"
        },
        "id": "R5Sc9lPnqt4b",
        "outputId": "3a7f2734-26b3-481e-f99e-40e75749c3d8"
      },
      "execution_count": 48,
      "outputs": [
        {
          "output_type": "stream",
          "name": "stdout",
          "text": [
            "В users_df рядків з пропусками: 0\n",
            "В purchases_df рядків з пропусками: 0\n",
            "В products_df рядків з пропусками: 0\n"
          ]
        }
      ]
    },
    {
      "cell_type": "code",
      "source": [
        "from pyspark.sql.functions import col, sum\n",
        "\n",
        "users_df.select([sum(col(c).isNull().cast(\"int\")).alias(c) for c in users_df.columns]).show()"
      ],
      "metadata": {
        "colab": {
          "base_uri": "https://localhost:8080/"
        },
        "id": "PW6QX_fHnUUR",
        "outputId": "6d0c0c67-7854-4730-9846-b10cffdccf52"
      },
      "execution_count": 49,
      "outputs": [
        {
          "output_type": "stream",
          "name": "stdout",
          "text": [
            "+-------+----+---+-----+\n",
            "|user_id|name|age|email|\n",
            "+-------+----+---+-----+\n",
            "|      0|   0|  0|    0|\n",
            "+-------+----+---+-----+\n",
            "\n"
          ]
        }
      ]
    },
    {
      "cell_type": "markdown",
      "source": [
        "3. Визначте загальну суму покупок за кожною категорією продуктів."
      ],
      "metadata": {
        "id": "sV9SQym2r6ao"
      }
    },
    {
      "cell_type": "code",
      "source": [
        "from pyspark.sql.functions import col, sum, round\n",
        "purchases_cat = purchases_df.join(products_df, on=\"product_id\", how=\"inner\").groupBy(\"category\").agg(round(sum(col(\"price\") * col(\"quantity\")), 2).alias(\"total_sales\"))\n",
        "purchases_cat.show()"
      ],
      "metadata": {
        "colab": {
          "base_uri": "https://localhost:8080/"
        },
        "id": "_jyYBk_mr9vQ",
        "outputId": "af340285-51b0-471a-8920-5d79c6f1204e"
      },
      "execution_count": 71,
      "outputs": [
        {
          "output_type": "stream",
          "name": "stdout",
          "text": [
            "+-----------+-----------+\n",
            "|   category|total_sales|\n",
            "+-----------+-----------+\n",
            "|       Home|     1523.5|\n",
            "|     Sports|     1802.5|\n",
            "|Electronics|     1174.8|\n",
            "|   Clothing|      790.3|\n",
            "|     Beauty|      459.9|\n",
            "+-----------+-----------+\n",
            "\n"
          ]
        }
      ]
    },
    {
      "cell_type": "markdown",
      "source": [
        "4. Визначте суму покупок за кожною категорією продуктів для вікової категорії від 18 до 25 включно."
      ],
      "metadata": {
        "id": "SN6Q6G5KyDMH"
      }
    },
    {
      "cell_type": "code",
      "source": [
        "age_18_25 = purchases_df.join(products_df, on=\"product_id\", how=\"inner\")\\\n",
        "    .join(users_df, on=\"user_id\", how=\"inner\").filter((col(\"age\") >= 18) & (col(\"age\") <= 25))\\\n",
        "    .groupBy(\"category\").agg(round(sum(col(\"price\") * col(\"quantity\")), 2).alias(\"total_sales\"))\n",
        "age_18_25.show()"
      ],
      "metadata": {
        "colab": {
          "base_uri": "https://localhost:8080/"
        },
        "id": "sRkovdd7wmEY",
        "outputId": "ac75a4de-cf8c-4702-b02b-54ee3eae4ee7"
      },
      "execution_count": 93,
      "outputs": [
        {
          "output_type": "stream",
          "name": "stdout",
          "text": [
            "+-----------+-----------+\n",
            "|   category|total_sales|\n",
            "+-----------+-----------+\n",
            "|       Home|      361.1|\n",
            "|     Sports|      310.5|\n",
            "|Electronics|      249.6|\n",
            "|   Clothing|      245.0|\n",
            "|     Beauty|       41.4|\n",
            "+-----------+-----------+\n",
            "\n"
          ]
        }
      ]
    },
    {
      "cell_type": "markdown",
      "source": [
        "5. Визначте частку покупок за кожною категорією товарів від сумарних витрат для вікової категорії від 18 до 25 років.\n",
        "\n"
      ],
      "metadata": {
        "id": "sxYeqbm80MI5"
      }
    },
    {
      "cell_type": "code",
      "source": [
        "from pyspark.sql.window import Window\n",
        "cat_sales = purchases_df.join(products_df, on=\"product_id\", how=\"inner\")\\\n",
        "    .join(users_df, on=\"user_id\", how=\"inner\").filter((col(\"age\") >= 18) & (col(\"age\") <= 25))\\\n",
        "    .groupBy(\"category\").agg(round(sum(col(\"price\") * col(\"quantity\")), 2).alias(\"total_sales\"))\n",
        "total_sales = cat_sales.agg(round(sum(\"total_sales\"), 2).alias(\"total_sales\")).collect()[0][\"total_sales\"]\n",
        "cat_share = cat_sales.withColumn(\"share\", round(col(\"total_sales\") / total_sales, 2))\n",
        "cat_share.show()"
      ],
      "metadata": {
        "colab": {
          "base_uri": "https://localhost:8080/"
        },
        "id": "TaVzdHUn3DqK",
        "outputId": "5d30bdb1-45be-4bf3-cddd-9556bdeddc8d"
      },
      "execution_count": 112,
      "outputs": [
        {
          "output_type": "stream",
          "name": "stdout",
          "text": [
            "+-----------+-----------+-----+\n",
            "|   category|total_sales|share|\n",
            "+-----------+-----------+-----+\n",
            "|       Home|      361.1|  0.3|\n",
            "|     Sports|      310.5| 0.26|\n",
            "|Electronics|      249.6| 0.21|\n",
            "|   Clothing|      245.0|  0.2|\n",
            "|     Beauty|       41.4| 0.03|\n",
            "+-----------+-----------+-----+\n",
            "\n"
          ]
        }
      ]
    },
    {
      "cell_type": "markdown",
      "source": [
        "... варіант через Window-функцію"
      ],
      "metadata": {
        "id": "i82-1nUmBH0e"
      }
    },
    {
      "cell_type": "code",
      "source": [
        "from pyspark.sql.window import Window\n",
        "cat_share_18_25 = purchases_df.join(products_df, on=\"product_id\", how=\"inner\")\\\n",
        "    .join(users_df, on=\"user_id\", how=\"inner\").filter((col(\"age\") >= 18) & (col(\"age\") <= 25))\\\n",
        "    .groupBy(\"category\").agg(round(sum(col(\"price\") * col(\"quantity\")), 2).alias(\"total_sales\"))\\\n",
        "    .withColumn(\"share\", round(col(\"total_sales\") / sum(\"total_sales\").over(Window.partitionBy()), 2))\n",
        "cat_share_18_25.show()"
      ],
      "metadata": {
        "colab": {
          "base_uri": "https://localhost:8080/"
        },
        "id": "7jztuwwy0GvJ",
        "outputId": "b479bb19-c4a7-418c-b645-e7f43038d0b1"
      },
      "execution_count": 109,
      "outputs": [
        {
          "output_type": "stream",
          "name": "stdout",
          "text": [
            "+-----------+-----------+-----+\n",
            "|   category|total_sales|share|\n",
            "+-----------+-----------+-----+\n",
            "|       Home|      361.1|  0.3|\n",
            "|     Sports|      310.5| 0.26|\n",
            "|Electronics|      249.6| 0.21|\n",
            "|   Clothing|      245.0|  0.2|\n",
            "|     Beauty|       41.4| 0.03|\n",
            "+-----------+-----------+-----+\n",
            "\n"
          ]
        }
      ]
    },
    {
      "cell_type": "markdown",
      "source": [
        "6. Виберіть 3 категорії продуктів з найвищим відсотком витрат споживачами віком від 18 до 25 років."
      ],
      "metadata": {
        "id": "5QUv03bCBADn"
      }
    },
    {
      "cell_type": "code",
      "source": [
        "from pyspark.sql.window import Window\n",
        "cat_sales = purchases_df.join(products_df, on=\"product_id\", how=\"inner\")\\\n",
        "    .join(users_df, on=\"user_id\", how=\"inner\").filter((col(\"age\") >= 18) & (col(\"age\") <= 25))\\\n",
        "    .groupBy(\"category\").agg(round(sum(col(\"price\") * col(\"quantity\")), 2).alias(\"total_sales\"))\n",
        "total_sales = cat_sales.agg(round(sum(\"total_sales\"), 2).alias(\"total_sales\")).collect()[0][\"total_sales\"]\n",
        "cat_share = cat_sales.withColumn(\"share\", round(col(\"total_sales\") / total_sales, 2)).sort(col(\"share\").desc()).limit(3)\n",
        "cat_share.show()"
      ],
      "metadata": {
        "colab": {
          "base_uri": "https://localhost:8080/"
        },
        "id": "5AEuKS4lA_Sk",
        "outputId": "b246f67b-c957-4cb9-f28b-6d0dffa90a5a"
      },
      "execution_count": 114,
      "outputs": [
        {
          "output_type": "stream",
          "name": "stdout",
          "text": [
            "+-----------+-----------+-----+\n",
            "|   category|total_sales|share|\n",
            "+-----------+-----------+-----+\n",
            "|       Home|      361.1|  0.3|\n",
            "|     Sports|      310.5| 0.26|\n",
            "|Electronics|      249.6| 0.21|\n",
            "+-----------+-----------+-----+\n",
            "\n"
          ]
        }
      ]
    },
    {
      "cell_type": "code",
      "source": [
        "spark.stop()"
      ],
      "metadata": {
        "id": "RlAxg5nfgnDg"
      },
      "execution_count": 18,
      "outputs": []
    }
  ]
}